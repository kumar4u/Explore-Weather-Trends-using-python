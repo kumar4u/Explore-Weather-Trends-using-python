{
 "cells": [
  {
   "cell_type": "markdown",
   "metadata": {},
   "source": [
    "# Project: Explore Weather Trends\n",
    "***Muthukumar Palavesam***\n",
    "\n",
    "## Table of Contents\n",
    "<ul>\n",
    "<li><a href=\"#intro\">Introduction</a></li>\n",
    "<li><a href=\"#wrangling\">Data Wrangling</a></li>\n",
    "<li><a href=\"#eda\">Exploratory Data Analysis</a></li>\n",
    "<li><a href=\"#conclusions\">Conclusions</a></li>\n",
    "</ul>"
   ]
  },
  {
   "cell_type": "markdown",
   "metadata": {},
   "source": [
    "<a id='intro'></a>\n",
    "## Introduction\n",
    "\n",
    "> In this project, local and global temperature data has been analyzed and the temperature trends in Bangalore, India has been compared to overall global temperature trends.\n",
    "\n",
    "> In this project I will go ahead and explore the answers for the below questions:<br>\n",
    "> - Which Month the min and max temp had registered in city and global?\n",
    "> - How the temp trends look like?"
   ]
  },
  {
   "cell_type": "code",
   "execution_count": 1,
   "metadata": {},
   "outputs": [],
   "source": [
    "#import the necessary package for this project\n",
    "import pandas as pd\n",
    "import matplotlib.pyplot as plt\n",
    "import numpy as np\n",
    "import seaborn as sns\n",
    "import calendar\n",
    "% matplotlib inline"
   ]
  },
  {
   "cell_type": "markdown",
   "metadata": {},
   "source": [
    "<a id='wrangling'></a>\n",
    "## Data Wrangling\n",
    "\n",
    "\n",
    "### Explore General Properties of the Dataset"
   ]
  },
  {
   "cell_type": "code",
   "execution_count": 2,
   "metadata": {},
   "outputs": [],
   "source": [
    "#Load Data using pandas \"read_csv\"\n",
    "city_data=pd.read_csv('city_data.csv')\n",
    "city_list=pd.read_csv('city_list.csv')\n",
    "global_data=pd.read_csv('global_data.csv')"
   ]
  },
  {
   "cell_type": "code",
   "execution_count": 3,
   "metadata": {},
   "outputs": [
    {
     "name": "stdout",
     "output_type": "stream",
     "text": [
      "<class 'pandas.core.frame.DataFrame'>\n",
      "RangeIndex: 71311 entries, 0 to 71310\n",
      "Data columns (total 4 columns):\n",
      "year        71311 non-null int64\n",
      "city        71311 non-null object\n",
      "country     71311 non-null object\n",
      "avg_temp    68764 non-null float64\n",
      "dtypes: float64(1), int64(1), object(2)\n",
      "memory usage: 1.6+ MB\n"
     ]
    }
   ],
   "source": [
    "city_data.info()"
   ]
  },
  {
   "cell_type": "code",
   "execution_count": 4,
   "metadata": {},
   "outputs": [
    {
     "data": {
      "text/html": [
       "<div>\n",
       "<style scoped>\n",
       "    .dataframe tbody tr th:only-of-type {\n",
       "        vertical-align: middle;\n",
       "    }\n",
       "\n",
       "    .dataframe tbody tr th {\n",
       "        vertical-align: top;\n",
       "    }\n",
       "\n",
       "    .dataframe thead th {\n",
       "        text-align: right;\n",
       "    }\n",
       "</style>\n",
       "<table border=\"1\" class=\"dataframe\">\n",
       "  <thead>\n",
       "    <tr style=\"text-align: right;\">\n",
       "      <th></th>\n",
       "      <th>year</th>\n",
       "      <th>city</th>\n",
       "      <th>country</th>\n",
       "      <th>avg_temp</th>\n",
       "    </tr>\n",
       "  </thead>\n",
       "  <tbody>\n",
       "    <tr>\n",
       "      <th>0</th>\n",
       "      <td>1849</td>\n",
       "      <td>Abidjan</td>\n",
       "      <td>Côte D'Ivoire</td>\n",
       "      <td>25.58</td>\n",
       "    </tr>\n",
       "    <tr>\n",
       "      <th>1</th>\n",
       "      <td>1850</td>\n",
       "      <td>Abidjan</td>\n",
       "      <td>Côte D'Ivoire</td>\n",
       "      <td>25.52</td>\n",
       "    </tr>\n",
       "  </tbody>\n",
       "</table>\n",
       "</div>"
      ],
      "text/plain": [
       "   year     city        country  avg_temp\n",
       "0  1849  Abidjan  Côte D'Ivoire     25.58\n",
       "1  1850  Abidjan  Côte D'Ivoire     25.52"
      ]
     },
     "execution_count": 4,
     "metadata": {},
     "output_type": "execute_result"
    }
   ],
   "source": [
    "city_data.head(2)"
   ]
  },
  {
   "cell_type": "code",
   "execution_count": 5,
   "metadata": {},
   "outputs": [
    {
     "data": {
      "text/html": [
       "<div>\n",
       "<style scoped>\n",
       "    .dataframe tbody tr th:only-of-type {\n",
       "        vertical-align: middle;\n",
       "    }\n",
       "\n",
       "    .dataframe tbody tr th {\n",
       "        vertical-align: top;\n",
       "    }\n",
       "\n",
       "    .dataframe thead th {\n",
       "        text-align: right;\n",
       "    }\n",
       "</style>\n",
       "<table border=\"1\" class=\"dataframe\">\n",
       "  <thead>\n",
       "    <tr style=\"text-align: right;\">\n",
       "      <th></th>\n",
       "      <th>city</th>\n",
       "      <th>country</th>\n",
       "    </tr>\n",
       "  </thead>\n",
       "  <tbody>\n",
       "    <tr>\n",
       "      <th>0</th>\n",
       "      <td>Abidjan</td>\n",
       "      <td>Côte D'Ivoire</td>\n",
       "    </tr>\n",
       "    <tr>\n",
       "      <th>1</th>\n",
       "      <td>Abu Dhabi</td>\n",
       "      <td>United Arab Emirates</td>\n",
       "    </tr>\n",
       "  </tbody>\n",
       "</table>\n",
       "</div>"
      ],
      "text/plain": [
       "        city               country\n",
       "0    Abidjan         Côte D'Ivoire\n",
       "1  Abu Dhabi  United Arab Emirates"
      ]
     },
     "execution_count": 5,
     "metadata": {},
     "output_type": "execute_result"
    }
   ],
   "source": [
    "city_list.head(2)"
   ]
  },
  {
   "cell_type": "code",
   "execution_count": 6,
   "metadata": {},
   "outputs": [
    {
     "data": {
      "text/html": [
       "<div>\n",
       "<style scoped>\n",
       "    .dataframe tbody tr th:only-of-type {\n",
       "        vertical-align: middle;\n",
       "    }\n",
       "\n",
       "    .dataframe tbody tr th {\n",
       "        vertical-align: top;\n",
       "    }\n",
       "\n",
       "    .dataframe thead th {\n",
       "        text-align: right;\n",
       "    }\n",
       "</style>\n",
       "<table border=\"1\" class=\"dataframe\">\n",
       "  <thead>\n",
       "    <tr style=\"text-align: right;\">\n",
       "      <th></th>\n",
       "      <th>year</th>\n",
       "      <th>avg_temp</th>\n",
       "    </tr>\n",
       "  </thead>\n",
       "  <tbody>\n",
       "    <tr>\n",
       "      <th>0</th>\n",
       "      <td>1750</td>\n",
       "      <td>8.72</td>\n",
       "    </tr>\n",
       "    <tr>\n",
       "      <th>1</th>\n",
       "      <td>1751</td>\n",
       "      <td>7.98</td>\n",
       "    </tr>\n",
       "  </tbody>\n",
       "</table>\n",
       "</div>"
      ],
      "text/plain": [
       "   year  avg_temp\n",
       "0  1750      8.72\n",
       "1  1751      7.98"
      ]
     },
     "execution_count": 6,
     "metadata": {},
     "output_type": "execute_result"
    }
   ],
   "source": [
    "global_data.head(2)"
   ]
  },
  {
   "cell_type": "code",
   "execution_count": 7,
   "metadata": {},
   "outputs": [
    {
     "data": {
      "text/plain": [
       "array([\"Côte D'Ivoire\", 'United Arab Emirates', 'Nigeria', 'Ghana',\n",
       "       'Turkey', 'Australia', 'India', 'United States', 'Egypt',\n",
       "       'Algeria', 'Kazakhstan', 'Netherlands', 'China', 'Madagascar',\n",
       "       'Eritrea', 'Greece', 'Iraq', 'Azerbaijan', 'Mali', 'Indonesia',\n",
       "       'Thailand', 'Central African Republic', 'Spain', 'Venezuela',\n",
       "       'Colombia', 'Lebanon', 'United Kingdom', 'Serbia', 'Brazil',\n",
       "       'Libya', 'Germany', 'Switzerland', 'Guinea Bissau', 'Slovakia',\n",
       "       'Congo', 'Belgium', 'Romania', 'Hungary', 'Burundi', 'Morocco',\n",
       "       'Russia', 'Moldova', 'Sri Lanka', 'Guinea', 'Denmark', 'Argentina',\n",
       "       'Senegal', 'Syria', 'Tanzania', 'Bangladesh', 'Qatar', 'Cameroon',\n",
       "       'Ireland', 'South Africa', 'Tajikistan', 'Mexico', 'Pakistan',\n",
       "       'Sierra Leone', 'Botswana', 'Guyana', 'Guatemala', 'Ecuador',\n",
       "       'Vietnam', 'Zimbabwe', 'Finland', 'Japan', 'Sudan', 'Afghanistan',\n",
       "       'Uganda', 'Taiwan', 'Nepal', 'Ukraine', 'Rwanda', 'Canada',\n",
       "       'Jamaica', 'Congo (Democratic Republic Of The)', 'Malaysia',\n",
       "       'Bolivia', 'Gabon', 'Malawi', 'Peru', 'Portugal', 'Slovenia',\n",
       "       'Chile', 'Angola', 'Zambia', 'Equatorial Guinea', 'Nicaragua',\n",
       "       'Bahrain', 'Philippines', 'Mozambique', 'Lesotho', 'Iran',\n",
       "       'Saudi Arabia', 'Italy', 'Belarus', 'Somalia', 'Liberia',\n",
       "       'Uruguay', 'Kenya', 'Bahamas', 'Niger', 'Mauritania', 'Norway',\n",
       "       'Burkina Faso', 'Suriname', 'France', 'Montenegro', 'Haiti',\n",
       "       'Mauritius', 'Papua New Guinea', 'Czech Republic', 'Latvia',\n",
       "       'El Salvador', 'Dominican Republic', 'Bosnia And Herzegovina',\n",
       "       'South Korea', 'Hong Kong', 'Singapore', 'Macedonia', 'Bulgaria',\n",
       "       'Sweden', 'Estonia', 'Uzbekistan', 'Georgia', 'Honduras',\n",
       "       'Albania', 'Tunisia', 'Mongolia', 'Austria', 'Laos', 'Lithuania',\n",
       "       'Poland', 'New Zealand', 'Namibia', 'Armenia', 'Croatia'],\n",
       "      dtype=object)"
      ]
     },
     "execution_count": 7,
     "metadata": {},
     "output_type": "execute_result"
    }
   ],
   "source": [
    "city_list['country'].unique()"
   ]
  },
  {
   "cell_type": "code",
   "execution_count": 8,
   "metadata": {},
   "outputs": [
    {
     "data": {
      "text/plain": [
       "['Agra',\n",
       " 'Ahmadabad',\n",
       " 'Allahabad',\n",
       " 'Amritsar',\n",
       " 'Bangalore',\n",
       " 'Bhopal',\n",
       " 'Delhi',\n",
       " 'Haora',\n",
       " 'Hyderabad',\n",
       " 'Indore',\n",
       " 'Jaipur',\n",
       " 'Kanpur',\n",
       " 'Ludhiana',\n",
       " 'Nagpur',\n",
       " 'New Delhi',\n",
       " 'Patna',\n",
       " 'Pune',\n",
       " 'Rajkot',\n",
       " 'Ranchi',\n",
       " 'Surat',\n",
       " 'Vadodara',\n",
       " 'Varanasi']"
      ]
     },
     "execution_count": 8,
     "metadata": {},
     "output_type": "execute_result"
    }
   ],
   "source": [
    "list(city_list.query('country==\"India\"')['city'])"
   ]
  },
  {
   "cell_type": "markdown",
   "metadata": {},
   "source": [
    "### Data Cleaning\n",
    "\n",
    "> - In this I want to delete duplicates\n",
    "> - Replace the NaN into suitable values\n",
    "> - Renaming the column\n",
    "> - Merging the records\n",
    "> - Going to calculate the 9 yr moving Avg\n",
    "> - Adding the column if needed\n",
    "> - Save the cleaned Data"
   ]
  },
  {
   "cell_type": "markdown",
   "metadata": {},
   "source": [
    "#### Data Cleaning - `Saving the Bangalore city data`"
   ]
  },
  {
   "cell_type": "code",
   "execution_count": 9,
   "metadata": {},
   "outputs": [],
   "source": [
    "df=city_data.query('city==\"Bangalore\"')\n",
    "df.to_csv('city_data_bangalore.csv',index=False)"
   ]
  },
  {
   "cell_type": "code",
   "execution_count": 10,
   "metadata": {},
   "outputs": [
    {
     "data": {
      "text/html": [
       "<div>\n",
       "<style scoped>\n",
       "    .dataframe tbody tr th:only-of-type {\n",
       "        vertical-align: middle;\n",
       "    }\n",
       "\n",
       "    .dataframe tbody tr th {\n",
       "        vertical-align: top;\n",
       "    }\n",
       "\n",
       "    .dataframe thead th {\n",
       "        text-align: right;\n",
       "    }\n",
       "</style>\n",
       "<table border=\"1\" class=\"dataframe\">\n",
       "  <thead>\n",
       "    <tr style=\"text-align: right;\">\n",
       "      <th></th>\n",
       "      <th>year</th>\n",
       "      <th>city</th>\n",
       "      <th>country</th>\n",
       "      <th>avg_temp</th>\n",
       "    </tr>\n",
       "  </thead>\n",
       "  <tbody>\n",
       "    <tr>\n",
       "      <th>0</th>\n",
       "      <td>1796</td>\n",
       "      <td>Bangalore</td>\n",
       "      <td>India</td>\n",
       "      <td>24.49</td>\n",
       "    </tr>\n",
       "    <tr>\n",
       "      <th>1</th>\n",
       "      <td>1797</td>\n",
       "      <td>Bangalore</td>\n",
       "      <td>India</td>\n",
       "      <td>25.18</td>\n",
       "    </tr>\n",
       "    <tr>\n",
       "      <th>2</th>\n",
       "      <td>1798</td>\n",
       "      <td>Bangalore</td>\n",
       "      <td>India</td>\n",
       "      <td>24.65</td>\n",
       "    </tr>\n",
       "    <tr>\n",
       "      <th>3</th>\n",
       "      <td>1799</td>\n",
       "      <td>Bangalore</td>\n",
       "      <td>India</td>\n",
       "      <td>24.81</td>\n",
       "    </tr>\n",
       "    <tr>\n",
       "      <th>4</th>\n",
       "      <td>1800</td>\n",
       "      <td>Bangalore</td>\n",
       "      <td>India</td>\n",
       "      <td>24.85</td>\n",
       "    </tr>\n",
       "  </tbody>\n",
       "</table>\n",
       "</div>"
      ],
      "text/plain": [
       "   year       city country  avg_temp\n",
       "0  1796  Bangalore   India     24.49\n",
       "1  1797  Bangalore   India     25.18\n",
       "2  1798  Bangalore   India     24.65\n",
       "3  1799  Bangalore   India     24.81\n",
       "4  1800  Bangalore   India     24.85"
      ]
     },
     "execution_count": 10,
     "metadata": {},
     "output_type": "execute_result"
    }
   ],
   "source": [
    "city_data_bangalore=pd.read_csv('city_data_bangalore.csv')\n",
    "city_data_bangalore.head()"
   ]
  },
  {
   "cell_type": "markdown",
   "metadata": {},
   "source": [
    "#### Data Cleaning - `Checking Duplicate Records`"
   ]
  },
  {
   "cell_type": "code",
   "execution_count": 11,
   "metadata": {},
   "outputs": [
    {
     "name": "stdout",
     "output_type": "stream",
     "text": [
      "City Data Duplicate Records:0\n",
      "City List Duplicate Records:0\n",
      "Global Data Duplicate Records:0\n"
     ]
    }
   ],
   "source": [
    "print(\"City Data Duplicate Records:{}\".format(sum(city_data.duplicated())))\n",
    "print(\"City List Duplicate Records:{}\".format(sum(city_data.duplicated())))\n",
    "print(\"Global Data Duplicate Records:{}\".format(sum(city_data.duplicated())))"
   ]
  },
  {
   "cell_type": "markdown",
   "metadata": {},
   "source": [
    "#### Data Cleaning - `Checking NaN Records`"
   ]
  },
  {
   "cell_type": "code",
   "execution_count": 12,
   "metadata": {},
   "outputs": [
    {
     "data": {
      "text/plain": [
       "(218, 4)"
      ]
     },
     "execution_count": 12,
     "metadata": {},
     "output_type": "execute_result"
    }
   ],
   "source": [
    "city_data_bangalore.shape"
   ]
  },
  {
   "cell_type": "code",
   "execution_count": 13,
   "metadata": {},
   "outputs": [
    {
     "name": "stdout",
     "output_type": "stream",
     "text": [
      "City Data Null Counts:{}\n"
     ]
    },
    {
     "data": {
      "text/plain": [
       "avg_temp    7\n",
       "dtype: int64"
      ]
     },
     "execution_count": 13,
     "metadata": {},
     "output_type": "execute_result"
    }
   ],
   "source": [
    "city_data_null_counts= city_data_bangalore.isnull().sum()\n",
    "print(\"City Data Null Counts:{}\")\n",
    "city_data_null_counts[city_data_null_counts>0]"
   ]
  },
  {
   "cell_type": "code",
   "execution_count": 14,
   "metadata": {},
   "outputs": [
    {
     "name": "stdout",
     "output_type": "stream",
     "text": [
      "Global Data Null Counts:\n"
     ]
    },
    {
     "data": {
      "text/plain": [
       "Series([], dtype: int64)"
      ]
     },
     "execution_count": 14,
     "metadata": {},
     "output_type": "execute_result"
    }
   ],
   "source": [
    "global_data_null_counts= global_data.isnull().sum()\n",
    "print(\"Global Data Null Counts:\")\n",
    "global_data_null_counts[global_data_null_counts>0]"
   ]
  },
  {
   "cell_type": "code",
   "execution_count": 15,
   "metadata": {},
   "outputs": [],
   "source": [
    "#From Above the city data is having 2547 null records in Avg_temp column. So Going to replace the NaN into mean avg\n",
    "city_data_bangalore['avg_temp'].fillna(city_data_bangalore['avg_temp'].mean(),inplace=True)"
   ]
  },
  {
   "cell_type": "code",
   "execution_count": 16,
   "metadata": {},
   "outputs": [
    {
     "name": "stdout",
     "output_type": "stream",
     "text": [
      "City Data Null Counts:{}\n"
     ]
    },
    {
     "data": {
      "text/plain": [
       "Series([], dtype: int64)"
      ]
     },
     "execution_count": 16,
     "metadata": {},
     "output_type": "execute_result"
    }
   ],
   "source": [
    "#Recheck the NUll counts\n",
    "city_data_null_counts= city_data_bangalore.isnull().sum()\n",
    "print(\"City Data Null Counts:{}\")\n",
    "city_data_null_counts[city_data_null_counts>0]"
   ]
  },
  {
   "cell_type": "markdown",
   "metadata": {},
   "source": [
    "#### Data Cleaning - `Rename column`"
   ]
  },
  {
   "cell_type": "code",
   "execution_count": 17,
   "metadata": {},
   "outputs": [],
   "source": [
    "city_data_bangalore.rename(columns={'avg_temp':'city_avg_temp'},inplace=True)\n",
    "global_data.rename(columns={'avg_temp':'global_avg_temp'},inplace=True)"
   ]
  },
  {
   "cell_type": "code",
   "execution_count": 18,
   "metadata": {},
   "outputs": [
    {
     "data": {
      "text/html": [
       "<div>\n",
       "<style scoped>\n",
       "    .dataframe tbody tr th:only-of-type {\n",
       "        vertical-align: middle;\n",
       "    }\n",
       "\n",
       "    .dataframe tbody tr th {\n",
       "        vertical-align: top;\n",
       "    }\n",
       "\n",
       "    .dataframe thead th {\n",
       "        text-align: right;\n",
       "    }\n",
       "</style>\n",
       "<table border=\"1\" class=\"dataframe\">\n",
       "  <thead>\n",
       "    <tr style=\"text-align: right;\">\n",
       "      <th></th>\n",
       "      <th>year</th>\n",
       "      <th>city</th>\n",
       "      <th>country</th>\n",
       "      <th>city_avg_temp</th>\n",
       "    </tr>\n",
       "  </thead>\n",
       "  <tbody>\n",
       "    <tr>\n",
       "      <th>0</th>\n",
       "      <td>1796</td>\n",
       "      <td>Bangalore</td>\n",
       "      <td>India</td>\n",
       "      <td>24.49</td>\n",
       "    </tr>\n",
       "  </tbody>\n",
       "</table>\n",
       "</div>"
      ],
      "text/plain": [
       "   year       city country  city_avg_temp\n",
       "0  1796  Bangalore   India          24.49"
      ]
     },
     "execution_count": 18,
     "metadata": {},
     "output_type": "execute_result"
    }
   ],
   "source": [
    "city_data_bangalore.head(1)"
   ]
  },
  {
   "cell_type": "code",
   "execution_count": 19,
   "metadata": {},
   "outputs": [
    {
     "data": {
      "text/html": [
       "<div>\n",
       "<style scoped>\n",
       "    .dataframe tbody tr th:only-of-type {\n",
       "        vertical-align: middle;\n",
       "    }\n",
       "\n",
       "    .dataframe tbody tr th {\n",
       "        vertical-align: top;\n",
       "    }\n",
       "\n",
       "    .dataframe thead th {\n",
       "        text-align: right;\n",
       "    }\n",
       "</style>\n",
       "<table border=\"1\" class=\"dataframe\">\n",
       "  <thead>\n",
       "    <tr style=\"text-align: right;\">\n",
       "      <th></th>\n",
       "      <th>year</th>\n",
       "      <th>global_avg_temp</th>\n",
       "    </tr>\n",
       "  </thead>\n",
       "  <tbody>\n",
       "    <tr>\n",
       "      <th>0</th>\n",
       "      <td>1750</td>\n",
       "      <td>8.72</td>\n",
       "    </tr>\n",
       "  </tbody>\n",
       "</table>\n",
       "</div>"
      ],
      "text/plain": [
       "   year  global_avg_temp\n",
       "0  1750             8.72"
      ]
     },
     "execution_count": 19,
     "metadata": {},
     "output_type": "execute_result"
    }
   ],
   "source": [
    "global_data.head(1)"
   ]
  },
  {
   "cell_type": "markdown",
   "metadata": {},
   "source": [
    "#### Data Cleaning - `Merging the data Frame`"
   ]
  },
  {
   "cell_type": "code",
   "execution_count": 20,
   "metadata": {},
   "outputs": [],
   "source": [
    "merged_data=pd.merge(city_data_bangalore,global_data,how='left',on=['year','year'])"
   ]
  },
  {
   "cell_type": "code",
   "execution_count": 21,
   "metadata": {},
   "outputs": [
    {
     "data": {
      "text/html": [
       "<div>\n",
       "<style scoped>\n",
       "    .dataframe tbody tr th:only-of-type {\n",
       "        vertical-align: middle;\n",
       "    }\n",
       "\n",
       "    .dataframe tbody tr th {\n",
       "        vertical-align: top;\n",
       "    }\n",
       "\n",
       "    .dataframe thead th {\n",
       "        text-align: right;\n",
       "    }\n",
       "</style>\n",
       "<table border=\"1\" class=\"dataframe\">\n",
       "  <thead>\n",
       "    <tr style=\"text-align: right;\">\n",
       "      <th></th>\n",
       "      <th>year</th>\n",
       "      <th>city</th>\n",
       "      <th>country</th>\n",
       "      <th>city_avg_temp</th>\n",
       "      <th>global_avg_temp</th>\n",
       "    </tr>\n",
       "  </thead>\n",
       "  <tbody>\n",
       "    <tr>\n",
       "      <th>0</th>\n",
       "      <td>1796</td>\n",
       "      <td>Bangalore</td>\n",
       "      <td>India</td>\n",
       "      <td>24.49</td>\n",
       "      <td>8.27</td>\n",
       "    </tr>\n",
       "    <tr>\n",
       "      <th>1</th>\n",
       "      <td>1797</td>\n",
       "      <td>Bangalore</td>\n",
       "      <td>India</td>\n",
       "      <td>25.18</td>\n",
       "      <td>8.51</td>\n",
       "    </tr>\n",
       "    <tr>\n",
       "      <th>2</th>\n",
       "      <td>1798</td>\n",
       "      <td>Bangalore</td>\n",
       "      <td>India</td>\n",
       "      <td>24.65</td>\n",
       "      <td>8.67</td>\n",
       "    </tr>\n",
       "    <tr>\n",
       "      <th>3</th>\n",
       "      <td>1799</td>\n",
       "      <td>Bangalore</td>\n",
       "      <td>India</td>\n",
       "      <td>24.81</td>\n",
       "      <td>8.51</td>\n",
       "    </tr>\n",
       "    <tr>\n",
       "      <th>4</th>\n",
       "      <td>1800</td>\n",
       "      <td>Bangalore</td>\n",
       "      <td>India</td>\n",
       "      <td>24.85</td>\n",
       "      <td>8.48</td>\n",
       "    </tr>\n",
       "  </tbody>\n",
       "</table>\n",
       "</div>"
      ],
      "text/plain": [
       "   year       city country  city_avg_temp  global_avg_temp\n",
       "0  1796  Bangalore   India          24.49             8.27\n",
       "1  1797  Bangalore   India          25.18             8.51\n",
       "2  1798  Bangalore   India          24.65             8.67\n",
       "3  1799  Bangalore   India          24.81             8.51\n",
       "4  1800  Bangalore   India          24.85             8.48"
      ]
     },
     "execution_count": 21,
     "metadata": {},
     "output_type": "execute_result"
    }
   ],
   "source": [
    "merged_data.head()"
   ]
  },
  {
   "cell_type": "code",
   "execution_count": 22,
   "metadata": {},
   "outputs": [],
   "source": [
    "merged_data.insert(4,'city_9yr_moving_avg',merged_data['city_avg_temp'].rolling(window=9).mean())\n",
    "merged_data.insert(6,'global_9yr_moving_avg',merged_data['global_avg_temp'].rolling(window=9).mean())"
   ]
  },
  {
   "cell_type": "code",
   "execution_count": 23,
   "metadata": {},
   "outputs": [
    {
     "data": {
      "text/html": [
       "<div>\n",
       "<style scoped>\n",
       "    .dataframe tbody tr th:only-of-type {\n",
       "        vertical-align: middle;\n",
       "    }\n",
       "\n",
       "    .dataframe tbody tr th {\n",
       "        vertical-align: top;\n",
       "    }\n",
       "\n",
       "    .dataframe thead th {\n",
       "        text-align: right;\n",
       "    }\n",
       "</style>\n",
       "<table border=\"1\" class=\"dataframe\">\n",
       "  <thead>\n",
       "    <tr style=\"text-align: right;\">\n",
       "      <th></th>\n",
       "      <th>year</th>\n",
       "      <th>city</th>\n",
       "      <th>country</th>\n",
       "      <th>city_avg_temp</th>\n",
       "      <th>city_9yr_moving_avg</th>\n",
       "      <th>global_avg_temp</th>\n",
       "      <th>global_9yr_moving_avg</th>\n",
       "    </tr>\n",
       "  </thead>\n",
       "  <tbody>\n",
       "    <tr>\n",
       "      <th>0</th>\n",
       "      <td>1796</td>\n",
       "      <td>Bangalore</td>\n",
       "      <td>India</td>\n",
       "      <td>24.490000</td>\n",
       "      <td>NaN</td>\n",
       "      <td>8.27</td>\n",
       "      <td>NaN</td>\n",
       "    </tr>\n",
       "    <tr>\n",
       "      <th>1</th>\n",
       "      <td>1797</td>\n",
       "      <td>Bangalore</td>\n",
       "      <td>India</td>\n",
       "      <td>25.180000</td>\n",
       "      <td>NaN</td>\n",
       "      <td>8.51</td>\n",
       "      <td>NaN</td>\n",
       "    </tr>\n",
       "    <tr>\n",
       "      <th>2</th>\n",
       "      <td>1798</td>\n",
       "      <td>Bangalore</td>\n",
       "      <td>India</td>\n",
       "      <td>24.650000</td>\n",
       "      <td>NaN</td>\n",
       "      <td>8.67</td>\n",
       "      <td>NaN</td>\n",
       "    </tr>\n",
       "    <tr>\n",
       "      <th>3</th>\n",
       "      <td>1799</td>\n",
       "      <td>Bangalore</td>\n",
       "      <td>India</td>\n",
       "      <td>24.810000</td>\n",
       "      <td>NaN</td>\n",
       "      <td>8.51</td>\n",
       "      <td>NaN</td>\n",
       "    </tr>\n",
       "    <tr>\n",
       "      <th>4</th>\n",
       "      <td>1800</td>\n",
       "      <td>Bangalore</td>\n",
       "      <td>India</td>\n",
       "      <td>24.850000</td>\n",
       "      <td>NaN</td>\n",
       "      <td>8.48</td>\n",
       "      <td>NaN</td>\n",
       "    </tr>\n",
       "    <tr>\n",
       "      <th>5</th>\n",
       "      <td>1801</td>\n",
       "      <td>Bangalore</td>\n",
       "      <td>India</td>\n",
       "      <td>24.490000</td>\n",
       "      <td>NaN</td>\n",
       "      <td>8.59</td>\n",
       "      <td>NaN</td>\n",
       "    </tr>\n",
       "    <tr>\n",
       "      <th>6</th>\n",
       "      <td>1802</td>\n",
       "      <td>Bangalore</td>\n",
       "      <td>India</td>\n",
       "      <td>25.440000</td>\n",
       "      <td>NaN</td>\n",
       "      <td>8.58</td>\n",
       "      <td>NaN</td>\n",
       "    </tr>\n",
       "    <tr>\n",
       "      <th>7</th>\n",
       "      <td>1803</td>\n",
       "      <td>Bangalore</td>\n",
       "      <td>India</td>\n",
       "      <td>25.220000</td>\n",
       "      <td>NaN</td>\n",
       "      <td>8.50</td>\n",
       "      <td>NaN</td>\n",
       "    </tr>\n",
       "    <tr>\n",
       "      <th>8</th>\n",
       "      <td>1804</td>\n",
       "      <td>Bangalore</td>\n",
       "      <td>India</td>\n",
       "      <td>25.670000</td>\n",
       "      <td>24.977778</td>\n",
       "      <td>8.84</td>\n",
       "      <td>8.550000</td>\n",
       "    </tr>\n",
       "    <tr>\n",
       "      <th>9</th>\n",
       "      <td>1805</td>\n",
       "      <td>Bangalore</td>\n",
       "      <td>India</td>\n",
       "      <td>25.010000</td>\n",
       "      <td>25.035556</td>\n",
       "      <td>8.56</td>\n",
       "      <td>8.582222</td>\n",
       "    </tr>\n",
       "    <tr>\n",
       "      <th>10</th>\n",
       "      <td>1806</td>\n",
       "      <td>Bangalore</td>\n",
       "      <td>India</td>\n",
       "      <td>24.870000</td>\n",
       "      <td>25.001111</td>\n",
       "      <td>8.43</td>\n",
       "      <td>8.573333</td>\n",
       "    </tr>\n",
       "    <tr>\n",
       "      <th>11</th>\n",
       "      <td>1807</td>\n",
       "      <td>Bangalore</td>\n",
       "      <td>India</td>\n",
       "      <td>24.250000</td>\n",
       "      <td>24.956667</td>\n",
       "      <td>8.28</td>\n",
       "      <td>8.530000</td>\n",
       "    </tr>\n",
       "    <tr>\n",
       "      <th>12</th>\n",
       "      <td>1808</td>\n",
       "      <td>Bangalore</td>\n",
       "      <td>India</td>\n",
       "      <td>24.853081</td>\n",
       "      <td>24.961453</td>\n",
       "      <td>7.63</td>\n",
       "      <td>8.432222</td>\n",
       "    </tr>\n",
       "    <tr>\n",
       "      <th>13</th>\n",
       "      <td>1809</td>\n",
       "      <td>Bangalore</td>\n",
       "      <td>India</td>\n",
       "      <td>24.853081</td>\n",
       "      <td>24.961796</td>\n",
       "      <td>7.08</td>\n",
       "      <td>8.276667</td>\n",
       "    </tr>\n",
       "    <tr>\n",
       "      <th>14</th>\n",
       "      <td>1810</td>\n",
       "      <td>Bangalore</td>\n",
       "      <td>India</td>\n",
       "      <td>24.853081</td>\n",
       "      <td>25.002138</td>\n",
       "      <td>6.92</td>\n",
       "      <td>8.091111</td>\n",
       "    </tr>\n",
       "  </tbody>\n",
       "</table>\n",
       "</div>"
      ],
      "text/plain": [
       "    year       city country  city_avg_temp  city_9yr_moving_avg  \\\n",
       "0   1796  Bangalore   India      24.490000                  NaN   \n",
       "1   1797  Bangalore   India      25.180000                  NaN   \n",
       "2   1798  Bangalore   India      24.650000                  NaN   \n",
       "3   1799  Bangalore   India      24.810000                  NaN   \n",
       "4   1800  Bangalore   India      24.850000                  NaN   \n",
       "5   1801  Bangalore   India      24.490000                  NaN   \n",
       "6   1802  Bangalore   India      25.440000                  NaN   \n",
       "7   1803  Bangalore   India      25.220000                  NaN   \n",
       "8   1804  Bangalore   India      25.670000            24.977778   \n",
       "9   1805  Bangalore   India      25.010000            25.035556   \n",
       "10  1806  Bangalore   India      24.870000            25.001111   \n",
       "11  1807  Bangalore   India      24.250000            24.956667   \n",
       "12  1808  Bangalore   India      24.853081            24.961453   \n",
       "13  1809  Bangalore   India      24.853081            24.961796   \n",
       "14  1810  Bangalore   India      24.853081            25.002138   \n",
       "\n",
       "    global_avg_temp  global_9yr_moving_avg  \n",
       "0              8.27                    NaN  \n",
       "1              8.51                    NaN  \n",
       "2              8.67                    NaN  \n",
       "3              8.51                    NaN  \n",
       "4              8.48                    NaN  \n",
       "5              8.59                    NaN  \n",
       "6              8.58                    NaN  \n",
       "7              8.50                    NaN  \n",
       "8              8.84               8.550000  \n",
       "9              8.56               8.582222  \n",
       "10             8.43               8.573333  \n",
       "11             8.28               8.530000  \n",
       "12             7.63               8.432222  \n",
       "13             7.08               8.276667  \n",
       "14             6.92               8.091111  "
      ]
     },
     "execution_count": 23,
     "metadata": {},
     "output_type": "execute_result"
    }
   ],
   "source": [
    "merged_data.head(15)"
   ]
  },
  {
   "cell_type": "markdown",
   "metadata": {},
   "source": [
    "#### Data Cleaning - `Saving merged cleaned data`"
   ]
  },
  {
   "cell_type": "code",
   "execution_count": 24,
   "metadata": {},
   "outputs": [],
   "source": [
    "merged_data.to_csv('cleaned_data.csv',index=False)"
   ]
  },
  {
   "cell_type": "code",
   "execution_count": 25,
   "metadata": {},
   "outputs": [
    {
     "data": {
      "text/html": [
       "<div>\n",
       "<style scoped>\n",
       "    .dataframe tbody tr th:only-of-type {\n",
       "        vertical-align: middle;\n",
       "    }\n",
       "\n",
       "    .dataframe tbody tr th {\n",
       "        vertical-align: top;\n",
       "    }\n",
       "\n",
       "    .dataframe thead th {\n",
       "        text-align: right;\n",
       "    }\n",
       "</style>\n",
       "<table border=\"1\" class=\"dataframe\">\n",
       "  <thead>\n",
       "    <tr style=\"text-align: right;\">\n",
       "      <th></th>\n",
       "      <th>year</th>\n",
       "      <th>city</th>\n",
       "      <th>country</th>\n",
       "      <th>city_avg_temp</th>\n",
       "      <th>city_9yr_moving_avg</th>\n",
       "      <th>global_avg_temp</th>\n",
       "      <th>global_9yr_moving_avg</th>\n",
       "    </tr>\n",
       "  </thead>\n",
       "  <tbody>\n",
       "    <tr>\n",
       "      <th>0</th>\n",
       "      <td>1796</td>\n",
       "      <td>Bangalore</td>\n",
       "      <td>India</td>\n",
       "      <td>24.49</td>\n",
       "      <td>NaN</td>\n",
       "      <td>8.27</td>\n",
       "      <td>NaN</td>\n",
       "    </tr>\n",
       "    <tr>\n",
       "      <th>1</th>\n",
       "      <td>1797</td>\n",
       "      <td>Bangalore</td>\n",
       "      <td>India</td>\n",
       "      <td>25.18</td>\n",
       "      <td>NaN</td>\n",
       "      <td>8.51</td>\n",
       "      <td>NaN</td>\n",
       "    </tr>\n",
       "    <tr>\n",
       "      <th>2</th>\n",
       "      <td>1798</td>\n",
       "      <td>Bangalore</td>\n",
       "      <td>India</td>\n",
       "      <td>24.65</td>\n",
       "      <td>NaN</td>\n",
       "      <td>8.67</td>\n",
       "      <td>NaN</td>\n",
       "    </tr>\n",
       "    <tr>\n",
       "      <th>3</th>\n",
       "      <td>1799</td>\n",
       "      <td>Bangalore</td>\n",
       "      <td>India</td>\n",
       "      <td>24.81</td>\n",
       "      <td>NaN</td>\n",
       "      <td>8.51</td>\n",
       "      <td>NaN</td>\n",
       "    </tr>\n",
       "    <tr>\n",
       "      <th>4</th>\n",
       "      <td>1800</td>\n",
       "      <td>Bangalore</td>\n",
       "      <td>India</td>\n",
       "      <td>24.85</td>\n",
       "      <td>NaN</td>\n",
       "      <td>8.48</td>\n",
       "      <td>NaN</td>\n",
       "    </tr>\n",
       "  </tbody>\n",
       "</table>\n",
       "</div>"
      ],
      "text/plain": [
       "   year       city country  city_avg_temp  city_9yr_moving_avg  \\\n",
       "0  1796  Bangalore   India          24.49                  NaN   \n",
       "1  1797  Bangalore   India          25.18                  NaN   \n",
       "2  1798  Bangalore   India          24.65                  NaN   \n",
       "3  1799  Bangalore   India          24.81                  NaN   \n",
       "4  1800  Bangalore   India          24.85                  NaN   \n",
       "\n",
       "   global_avg_temp  global_9yr_moving_avg  \n",
       "0             8.27                    NaN  \n",
       "1             8.51                    NaN  \n",
       "2             8.67                    NaN  \n",
       "3             8.51                    NaN  \n",
       "4             8.48                    NaN  "
      ]
     },
     "execution_count": 25,
     "metadata": {},
     "output_type": "execute_result"
    }
   ],
   "source": [
    "cleaned_data=pd.read_csv('cleaned_data.csv')\n",
    "cleaned_data.head()"
   ]
  },
  {
   "cell_type": "markdown",
   "metadata": {},
   "source": [
    "<a id='eda'></a>\n",
    "## Exploratory Data Analysis"
   ]
  },
  {
   "cell_type": "code",
   "execution_count": 26,
   "metadata": {},
   "outputs": [
    {
     "data": {
      "image/png": "[encoded data removed]",
      "text/plain": [
       "<Figure size 720x576 with 6 Axes>"
      ]
     },
     "metadata": {
      "needs_background": "light"
     },
     "output_type": "display_data"
    }
   ],
   "source": [
    "#Exploring the histogram of the data\n",
    "cleaned_data.hist(figsize=(10,8));"
   ]
  },
  {
   "cell_type": "markdown",
   "metadata": {},
   "source": [
    "### Research Question 1 : How differ the Global vs bangalore City Avg Temp?"
   ]
  },
  {
   "cell_type": "code",
   "execution_count": 27,
   "metadata": {},
   "outputs": [
    {
     "name": "stdout",
     "output_type": "stream",
     "text": [
      "0 year\n",
      "1 city\n",
      "2 country\n",
      "3 city_avg_temp\n",
      "4 city_9yr_moving_avg\n",
      "5 global_avg_temp\n",
      "6 global_9yr_moving_avg\n"
     ]
    }
   ],
   "source": [
    "#getting column index\n",
    "for i,v in enumerate (cleaned_data.columns):\n",
    "    print(i,v)"
   ]
  },
  {
   "cell_type": "code",
   "execution_count": 28,
   "metadata": {},
   "outputs": [
    {
     "data": {
      "image/png": "[encoded data removed]",
      "text/plain": [
       "<Figure size 1080x432 with 1 Axes>"
      ]
     },
     "metadata": {
      "needs_background": "light"
     },
     "output_type": "display_data"
    }
   ],
   "source": [
    "#Avg Temp in bangalore Vs Global\n",
    "cleaned_data.plot(xticks=np.arange(1796,2020,10),yticks=np.arange(0,40,5),\\\n",
    "                  x='year',y=['city_avg_temp','global_avg_temp'],figsize=(15,6),grid=True);\n",
    "\n",
    "#set the labels and titles of the plot.\n",
    "plt.title('Avg Temp(°C) between Bangalore city vs Global');\n",
    "plt.xlabel('Year');\n",
    "plt.ylabel('Avg Temp(°C)');"
   ]
  },
  {
   "cell_type": "markdown",
   "metadata": {},
   "source": [
    "> - From this above plot, whet we are seeing is the city avg temp is higher than the global Avg Temp."
   ]
  },
  {
   "cell_type": "markdown",
   "metadata": {},
   "source": [
    "### Research Question 2 : How differ the Global vs bangalore City 9 year moving Avg Temp?"
   ]
  },
  {
   "cell_type": "code",
   "execution_count": 29,
   "metadata": {},
   "outputs": [
    {
     "data": {
      "text/html": [
       "<style  type=\"text/css\" >\n",
       "</style><table id=\"T_9789edec_467a_11e9_ba9a_cc2f71cd47e4\" ><thead>    <tr>        <th class=\"col_heading level0 col0\" >year</th>        <th class=\"col_heading level0 col1\" >city_9yr_moving_avg</th>    </tr></thead><tbody>\n",
       "                <tr>\n",
       "                                <td id=\"T_9789edec_467a_11e9_ba9a_cc2f71cd47e4row0_col0\" class=\"data row0 col0\" >2013</td>\n",
       "                        <td id=\"T_9789edec_467a_11e9_ba9a_cc2f71cd47e4row0_col1\" class=\"data row0 col1\" >25.68</td>\n",
       "            </tr>\n",
       "            <tr>\n",
       "                                <td id=\"T_9789edec_467a_11e9_ba9a_cc2f71cd47e4row1_col0\" class=\"data row1 col0\" >2003</td>\n",
       "                        <td id=\"T_9789edec_467a_11e9_ba9a_cc2f71cd47e4row1_col1\" class=\"data row1 col1\" >25.6</td>\n",
       "            </tr>\n",
       "            <tr>\n",
       "                                <td id=\"T_9789edec_467a_11e9_ba9a_cc2f71cd47e4row2_col0\" class=\"data row2 col0\" >2005</td>\n",
       "                        <td id=\"T_9789edec_467a_11e9_ba9a_cc2f71cd47e4row2_col1\" class=\"data row2 col1\" >25.58</td>\n",
       "            </tr>\n",
       "            <tr>\n",
       "                                <td id=\"T_9789edec_467a_11e9_ba9a_cc2f71cd47e4row3_col0\" class=\"data row3 col0\" >2004</td>\n",
       "                        <td id=\"T_9789edec_467a_11e9_ba9a_cc2f71cd47e4row3_col1\" class=\"data row3 col1\" >25.58</td>\n",
       "            </tr>\n",
       "            <tr>\n",
       "                                <td id=\"T_9789edec_467a_11e9_ba9a_cc2f71cd47e4row4_col0\" class=\"data row4 col0\" >2010</td>\n",
       "                        <td id=\"T_9789edec_467a_11e9_ba9a_cc2f71cd47e4row4_col1\" class=\"data row4 col1\" >25.56</td>\n",
       "            </tr>\n",
       "    </tbody></table>"
      ],
      "text/plain": [
       "<pandas.io.formats.style.Styler at 0x93c2770>"
      ]
     },
     "execution_count": 29,
     "metadata": {},
     "output_type": "execute_result"
    }
   ],
   "source": [
    "#Top5 highest bangalore 9 year moving Avg Temp\n",
    "cleaned_data.iloc[:,np.r_[0,4:5]].\\\n",
    "                   sort_values(by=['city_9yr_moving_avg'],ascending=False).head().round(2).style.hide_index()"
   ]
  },
  {
   "cell_type": "code",
   "execution_count": 30,
   "metadata": {},
   "outputs": [
    {
     "data": {
      "text/html": [
       "<style  type=\"text/css\" >\n",
       "</style><table id=\"T_978c0912_467a_11e9_ac33_cc2f71cd47e4\" ><thead>    <tr>        <th class=\"col_heading level0 col0\" >year</th>        <th class=\"col_heading level0 col1\" >global_9yr_moving_avg</th>    </tr></thead><tbody>\n",
       "                <tr>\n",
       "                                <td id=\"T_978c0912_467a_11e9_ac33_cc2f71cd47e4row0_col0\" class=\"data row0 col0\" >2013</td>\n",
       "                        <td id=\"T_978c0912_467a_11e9_ac33_cc2f71cd47e4row0_col1\" class=\"data row0 col1\" >9.58</td>\n",
       "            </tr>\n",
       "            <tr>\n",
       "                                <td id=\"T_978c0912_467a_11e9_ac33_cc2f71cd47e4row1_col0\" class=\"data row1 col0\" >2010</td>\n",
       "                        <td id=\"T_978c0912_467a_11e9_ac33_cc2f71cd47e4row1_col1\" class=\"data row1 col1\" >9.56</td>\n",
       "            </tr>\n",
       "            <tr>\n",
       "                                <td id=\"T_978c0912_467a_11e9_ac33_cc2f71cd47e4row2_col0\" class=\"data row2 col0\" >2011</td>\n",
       "                        <td id=\"T_978c0912_467a_11e9_ac33_cc2f71cd47e4row2_col1\" class=\"data row2 col1\" >9.55</td>\n",
       "            </tr>\n",
       "            <tr>\n",
       "                                <td id=\"T_978c0912_467a_11e9_ac33_cc2f71cd47e4row3_col0\" class=\"data row3 col0\" >2012</td>\n",
       "                        <td id=\"T_978c0912_467a_11e9_ac33_cc2f71cd47e4row3_col1\" class=\"data row3 col1\" >9.55</td>\n",
       "            </tr>\n",
       "            <tr>\n",
       "                                <td id=\"T_978c0912_467a_11e9_ac33_cc2f71cd47e4row4_col0\" class=\"data row4 col0\" >2009</td>\n",
       "                        <td id=\"T_978c0912_467a_11e9_ac33_cc2f71cd47e4row4_col1\" class=\"data row4 col1\" >9.53</td>\n",
       "            </tr>\n",
       "    </tbody></table>"
      ],
      "text/plain": [
       "<pandas.io.formats.style.Styler at 0xa53b1d0>"
      ]
     },
     "execution_count": 30,
     "metadata": {},
     "output_type": "execute_result"
    }
   ],
   "source": [
    "#Top5 highest global 9 year moving Avg Temp\n",
    "cleaned_data.iloc[:,np.r_[0,6:7]].sort_values(by=['global_9yr_moving_avg'],ascending=False).\\\n",
    "head().round(2).style.hide_index()"
   ]
  },
  {
   "cell_type": "code",
   "execution_count": 31,
   "metadata": {},
   "outputs": [
    {
     "data": {
      "image/png": "[encoded data removed]",
      "text/plain": [
       "<Figure size 1080x432 with 1 Axes>"
      ]
     },
     "metadata": {
      "needs_background": "light"
     },
     "output_type": "display_data"
    }
   ],
   "source": [
    "cleaned_data.plot(xticks=np.arange(1803,2020,10),yticks=np.arange(0,40,5),\\\n",
    "                  x='year',y=['city_9yr_moving_avg','global_9yr_moving_avg'],figsize=(15,6),grid=True);\n",
    "\n",
    "#set the labels and titles of the plot.\n",
    "plt.title('Global Vs Bangalore Nine Year Moving Avg Temp °C');\n",
    "plt.xlabel('YEAR');\n",
    "plt.ylabel('Nine Year Moving Avg Temp (°C)');\n",
    "plt.legend(loc='upper right');"
   ]
  },
  {
   "cell_type": "markdown",
   "metadata": {},
   "source": [
    "### Research Question 3 : Top five Highest Global and Bangalore city Avg Temp"
   ]
  },
  {
   "cell_type": "code",
   "execution_count": 32,
   "metadata": {
    "scrolled": true
   },
   "outputs": [
    {
     "data": {
      "text/html": [
       "<style  type=\"text/css\" >\n",
       "</style><table id=\"T_97ba73a4_467a_11e9_96d6_cc2f71cd47e4\" ><thead>    <tr>        <th class=\"col_heading level0 col0\" >year</th>        <th class=\"col_heading level0 col1\" >city_avg_temp</th>    </tr></thead><tbody>\n",
       "                <tr>\n",
       "                                <td id=\"T_97ba73a4_467a_11e9_96d6_cc2f71cd47e4row0_col0\" class=\"data row0 col0\" >2013</td>\n",
       "                        <td id=\"T_97ba73a4_467a_11e9_96d6_cc2f71cd47e4row0_col1\" class=\"data row0 col1\" >26.61</td>\n",
       "            </tr>\n",
       "            <tr>\n",
       "                                <td id=\"T_97ba73a4_467a_11e9_96d6_cc2f71cd47e4row1_col0\" class=\"data row1 col0\" >2012</td>\n",
       "                        <td id=\"T_97ba73a4_467a_11e9_96d6_cc2f71cd47e4row1_col1\" class=\"data row1 col1\" >26.04</td>\n",
       "            </tr>\n",
       "            <tr>\n",
       "                                <td id=\"T_97ba73a4_467a_11e9_96d6_cc2f71cd47e4row2_col0\" class=\"data row2 col0\" >1998</td>\n",
       "                        <td id=\"T_97ba73a4_467a_11e9_96d6_cc2f71cd47e4row2_col1\" class=\"data row2 col1\" >26.01</td>\n",
       "            </tr>\n",
       "            <tr>\n",
       "                                <td id=\"T_97ba73a4_467a_11e9_96d6_cc2f71cd47e4row3_col0\" class=\"data row3 col0\" >2003</td>\n",
       "                        <td id=\"T_97ba73a4_467a_11e9_96d6_cc2f71cd47e4row3_col1\" class=\"data row3 col1\" >25.92</td>\n",
       "            </tr>\n",
       "            <tr>\n",
       "                                <td id=\"T_97ba73a4_467a_11e9_96d6_cc2f71cd47e4row4_col0\" class=\"data row4 col0\" >1987</td>\n",
       "                        <td id=\"T_97ba73a4_467a_11e9_96d6_cc2f71cd47e4row4_col1\" class=\"data row4 col1\" >25.81</td>\n",
       "            </tr>\n",
       "    </tbody></table>"
      ],
      "text/plain": [
       "<pandas.io.formats.style.Styler at 0xa9da8f0>"
      ]
     },
     "execution_count": 32,
     "metadata": {},
     "output_type": "execute_result"
    }
   ],
   "source": [
    "#Top5 highest bangalore avg Temp\n",
    "cleaned_data.iloc[:,np.r_[0,3:4]].sort_values(by=['city_avg_temp'],ascending=False).head().style.hide_index()"
   ]
  },
  {
   "cell_type": "code",
   "execution_count": 33,
   "metadata": {
    "scrolled": true
   },
   "outputs": [
    {
     "data": {
      "text/html": [
       "<style  type=\"text/css\" >\n",
       "</style><table id=\"T_97bc6e24_467a_11e9_8051_cc2f71cd47e4\" ><thead>    <tr>        <th class=\"col_heading level0 col0\" >year</th>        <th class=\"col_heading level0 col1\" >global_avg_temp</th>    </tr></thead><tbody>\n",
       "                <tr>\n",
       "                                <td id=\"T_97bc6e24_467a_11e9_8051_cc2f71cd47e4row0_col0\" class=\"data row0 col0\" >2007</td>\n",
       "                        <td id=\"T_97bc6e24_467a_11e9_8051_cc2f71cd47e4row0_col1\" class=\"data row0 col1\" >9.73</td>\n",
       "            </tr>\n",
       "            <tr>\n",
       "                                <td id=\"T_97bc6e24_467a_11e9_8051_cc2f71cd47e4row1_col0\" class=\"data row1 col0\" >2005</td>\n",
       "                        <td id=\"T_97bc6e24_467a_11e9_8051_cc2f71cd47e4row1_col1\" class=\"data row1 col1\" >9.7</td>\n",
       "            </tr>\n",
       "            <tr>\n",
       "                                <td id=\"T_97bc6e24_467a_11e9_8051_cc2f71cd47e4row2_col0\" class=\"data row2 col0\" >2010</td>\n",
       "                        <td id=\"T_97bc6e24_467a_11e9_8051_cc2f71cd47e4row2_col1\" class=\"data row2 col1\" >9.7</td>\n",
       "            </tr>\n",
       "            <tr>\n",
       "                                <td id=\"T_97bc6e24_467a_11e9_8051_cc2f71cd47e4row3_col0\" class=\"data row3 col0\" >2013</td>\n",
       "                        <td id=\"T_97bc6e24_467a_11e9_8051_cc2f71cd47e4row3_col1\" class=\"data row3 col1\" >9.61</td>\n",
       "            </tr>\n",
       "            <tr>\n",
       "                                <td id=\"T_97bc6e24_467a_11e9_8051_cc2f71cd47e4row4_col0\" class=\"data row4 col0\" >2002</td>\n",
       "                        <td id=\"T_97bc6e24_467a_11e9_8051_cc2f71cd47e4row4_col1\" class=\"data row4 col1\" >9.57</td>\n",
       "            </tr>\n",
       "    </tbody></table>"
      ],
      "text/plain": [
       "<pandas.io.formats.style.Styler at 0xac2e950>"
      ]
     },
     "execution_count": 33,
     "metadata": {},
     "output_type": "execute_result"
    }
   ],
   "source": [
    "#Top5 highest global avg Temp\n",
    "cleaned_data.iloc[:,np.r_[0,5:6]].sort_values(by=['global_avg_temp'],ascending=False).head().style.hide_index()"
   ]
  },
  {
   "cell_type": "markdown",
   "metadata": {},
   "source": [
    "### Research Question 4 : Top Five Lowest Global and Bangalore city Avg Temp"
   ]
  },
  {
   "cell_type": "code",
   "execution_count": 34,
   "metadata": {},
   "outputs": [
    {
     "data": {
      "text/html": [
       "<style  type=\"text/css\" >\n",
       "</style><table id=\"T_97be8f9c_467a_11e9_9278_cc2f71cd47e4\" ><thead>    <tr>        <th class=\"col_heading level0 col0\" >year</th>        <th class=\"col_heading level0 col1\" >city_avg_temp</th>    </tr></thead><tbody>\n",
       "                <tr>\n",
       "                                <td id=\"T_97be8f9c_467a_11e9_9278_cc2f71cd47e4row0_col0\" class=\"data row0 col0\" >1816</td>\n",
       "                        <td id=\"T_97be8f9c_467a_11e9_9278_cc2f71cd47e4row0_col1\" class=\"data row0 col1\" >23.3</td>\n",
       "            </tr>\n",
       "            <tr>\n",
       "                                <td id=\"T_97be8f9c_467a_11e9_9278_cc2f71cd47e4row1_col0\" class=\"data row1 col0\" >1862</td>\n",
       "                        <td id=\"T_97be8f9c_467a_11e9_9278_cc2f71cd47e4row1_col1\" class=\"data row1 col1\" >23.59</td>\n",
       "            </tr>\n",
       "            <tr>\n",
       "                                <td id=\"T_97be8f9c_467a_11e9_9278_cc2f71cd47e4row2_col0\" class=\"data row2 col0\" >1817</td>\n",
       "                        <td id=\"T_97be8f9c_467a_11e9_9278_cc2f71cd47e4row2_col1\" class=\"data row2 col1\" >23.6</td>\n",
       "            </tr>\n",
       "            <tr>\n",
       "                                <td id=\"T_97be8f9c_467a_11e9_9278_cc2f71cd47e4row3_col0\" class=\"data row3 col0\" >1815</td>\n",
       "                        <td id=\"T_97be8f9c_467a_11e9_9278_cc2f71cd47e4row3_col1\" class=\"data row3 col1\" >23.79</td>\n",
       "            </tr>\n",
       "            <tr>\n",
       "                                <td id=\"T_97be8f9c_467a_11e9_9278_cc2f71cd47e4row4_col0\" class=\"data row4 col0\" >1819</td>\n",
       "                        <td id=\"T_97be8f9c_467a_11e9_9278_cc2f71cd47e4row4_col1\" class=\"data row4 col1\" >23.86</td>\n",
       "            </tr>\n",
       "    </tbody></table>"
      ],
      "text/plain": [
       "<pandas.io.formats.style.Styler at 0xa54f070>"
      ]
     },
     "execution_count": 34,
     "metadata": {},
     "output_type": "execute_result"
    }
   ],
   "source": [
    "#Top5 lowest bangalore avg Temp\n",
    "cleaned_data.iloc[:,np.r_[0,3:4]].sort_values(by=['city_avg_temp']).head().style.hide_index()"
   ]
  },
  {
   "cell_type": "code",
   "execution_count": 35,
   "metadata": {},
   "outputs": [
    {
     "data": {
      "text/html": [
       "<style  type=\"text/css\" >\n",
       "</style><table id=\"T_97c0b118_467a_11e9_b787_cc2f71cd47e4\" ><thead>    <tr>        <th class=\"col_heading level0 col0\" >year</th>        <th class=\"col_heading level0 col1\" >global_avg_temp</th>    </tr></thead><tbody>\n",
       "                <tr>\n",
       "                                <td id=\"T_97c0b118_467a_11e9_b787_cc2f71cd47e4row0_col0\" class=\"data row0 col0\" >1811</td>\n",
       "                        <td id=\"T_97c0b118_467a_11e9_b787_cc2f71cd47e4row0_col1\" class=\"data row0 col1\" >6.86</td>\n",
       "            </tr>\n",
       "            <tr>\n",
       "                                <td id=\"T_97c0b118_467a_11e9_b787_cc2f71cd47e4row1_col0\" class=\"data row1 col0\" >1810</td>\n",
       "                        <td id=\"T_97c0b118_467a_11e9_b787_cc2f71cd47e4row1_col1\" class=\"data row1 col1\" >6.92</td>\n",
       "            </tr>\n",
       "            <tr>\n",
       "                                <td id=\"T_97c0b118_467a_11e9_b787_cc2f71cd47e4row2_col0\" class=\"data row2 col0\" >1816</td>\n",
       "                        <td id=\"T_97c0b118_467a_11e9_b787_cc2f71cd47e4row2_col1\" class=\"data row2 col1\" >6.94</td>\n",
       "            </tr>\n",
       "            <tr>\n",
       "                                <td id=\"T_97c0b118_467a_11e9_b787_cc2f71cd47e4row3_col0\" class=\"data row3 col0\" >1817</td>\n",
       "                        <td id=\"T_97c0b118_467a_11e9_b787_cc2f71cd47e4row3_col1\" class=\"data row3 col1\" >6.98</td>\n",
       "            </tr>\n",
       "            <tr>\n",
       "                                <td id=\"T_97c0b118_467a_11e9_b787_cc2f71cd47e4row4_col0\" class=\"data row4 col0\" >1812</td>\n",
       "                        <td id=\"T_97c0b118_467a_11e9_b787_cc2f71cd47e4row4_col1\" class=\"data row4 col1\" >7.05</td>\n",
       "            </tr>\n",
       "    </tbody></table>"
      ],
      "text/plain": [
       "<pandas.io.formats.style.Styler at 0xac366b0>"
      ]
     },
     "execution_count": 35,
     "metadata": {},
     "output_type": "execute_result"
    }
   ],
   "source": [
    "#Top5 lowest global avg Temp\n",
    "cleaned_data.iloc[:,np.r_[0,5:6]].sort_values(by=['global_avg_temp']).head().style.hide_index()"
   ]
  },
  {
   "cell_type": "markdown",
   "metadata": {},
   "source": [
    "### Research Question 5 : Top Five Highest Global and Bangalore city 9Yr Moving Avg Temp"
   ]
  },
  {
   "cell_type": "code",
   "execution_count": 36,
   "metadata": {},
   "outputs": [
    {
     "data": {
      "text/html": [
       "<style  type=\"text/css\" >\n",
       "</style><table id=\"T_97c2d27a_467a_11e9_8802_cc2f71cd47e4\" ><thead>    <tr>        <th class=\"col_heading level0 col0\" >year</th>        <th class=\"col_heading level0 col1\" >city_9yr_moving_avg</th>    </tr></thead><tbody>\n",
       "                <tr>\n",
       "                                <td id=\"T_97c2d27a_467a_11e9_8802_cc2f71cd47e4row0_col0\" class=\"data row0 col0\" >2013</td>\n",
       "                        <td id=\"T_97c2d27a_467a_11e9_8802_cc2f71cd47e4row0_col1\" class=\"data row0 col1\" >25.68</td>\n",
       "            </tr>\n",
       "            <tr>\n",
       "                                <td id=\"T_97c2d27a_467a_11e9_8802_cc2f71cd47e4row1_col0\" class=\"data row1 col0\" >2003</td>\n",
       "                        <td id=\"T_97c2d27a_467a_11e9_8802_cc2f71cd47e4row1_col1\" class=\"data row1 col1\" >25.6</td>\n",
       "            </tr>\n",
       "            <tr>\n",
       "                                <td id=\"T_97c2d27a_467a_11e9_8802_cc2f71cd47e4row2_col0\" class=\"data row2 col0\" >2005</td>\n",
       "                        <td id=\"T_97c2d27a_467a_11e9_8802_cc2f71cd47e4row2_col1\" class=\"data row2 col1\" >25.58</td>\n",
       "            </tr>\n",
       "            <tr>\n",
       "                                <td id=\"T_97c2d27a_467a_11e9_8802_cc2f71cd47e4row3_col0\" class=\"data row3 col0\" >2004</td>\n",
       "                        <td id=\"T_97c2d27a_467a_11e9_8802_cc2f71cd47e4row3_col1\" class=\"data row3 col1\" >25.58</td>\n",
       "            </tr>\n",
       "            <tr>\n",
       "                                <td id=\"T_97c2d27a_467a_11e9_8802_cc2f71cd47e4row4_col0\" class=\"data row4 col0\" >2010</td>\n",
       "                        <td id=\"T_97c2d27a_467a_11e9_8802_cc2f71cd47e4row4_col1\" class=\"data row4 col1\" >25.56</td>\n",
       "            </tr>\n",
       "    </tbody></table>"
      ],
      "text/plain": [
       "<pandas.io.formats.style.Styler at 0xa6aa6b0>"
      ]
     },
     "execution_count": 36,
     "metadata": {},
     "output_type": "execute_result"
    }
   ],
   "source": [
    "#Top5 highest bangalore 9Yr Moving Avg Temp\n",
    "cleaned_data.iloc[:,np.r_[0,4:5]].sort_values(by=['city_9yr_moving_avg'],ascending=False).\\\n",
    "head().round(2).style.hide_index()"
   ]
  },
  {
   "cell_type": "code",
   "execution_count": 37,
   "metadata": {},
   "outputs": [
    {
     "data": {
      "text/html": [
       "<style  type=\"text/css\" >\n",
       "</style><table id=\"T_97c51ada_467a_11e9_8ebc_cc2f71cd47e4\" ><thead>    <tr>        <th class=\"col_heading level0 col0\" >year</th>        <th class=\"col_heading level0 col1\" >global_9yr_moving_avg</th>    </tr></thead><tbody>\n",
       "                <tr>\n",
       "                                <td id=\"T_97c51ada_467a_11e9_8ebc_cc2f71cd47e4row0_col0\" class=\"data row0 col0\" >2013</td>\n",
       "                        <td id=\"T_97c51ada_467a_11e9_8ebc_cc2f71cd47e4row0_col1\" class=\"data row0 col1\" >9.58</td>\n",
       "            </tr>\n",
       "            <tr>\n",
       "                                <td id=\"T_97c51ada_467a_11e9_8ebc_cc2f71cd47e4row1_col0\" class=\"data row1 col0\" >2010</td>\n",
       "                        <td id=\"T_97c51ada_467a_11e9_8ebc_cc2f71cd47e4row1_col1\" class=\"data row1 col1\" >9.56</td>\n",
       "            </tr>\n",
       "            <tr>\n",
       "                                <td id=\"T_97c51ada_467a_11e9_8ebc_cc2f71cd47e4row2_col0\" class=\"data row2 col0\" >2011</td>\n",
       "                        <td id=\"T_97c51ada_467a_11e9_8ebc_cc2f71cd47e4row2_col1\" class=\"data row2 col1\" >9.55</td>\n",
       "            </tr>\n",
       "            <tr>\n",
       "                                <td id=\"T_97c51ada_467a_11e9_8ebc_cc2f71cd47e4row3_col0\" class=\"data row3 col0\" >2012</td>\n",
       "                        <td id=\"T_97c51ada_467a_11e9_8ebc_cc2f71cd47e4row3_col1\" class=\"data row3 col1\" >9.55</td>\n",
       "            </tr>\n",
       "            <tr>\n",
       "                                <td id=\"T_97c51ada_467a_11e9_8ebc_cc2f71cd47e4row4_col0\" class=\"data row4 col0\" >2009</td>\n",
       "                        <td id=\"T_97c51ada_467a_11e9_8ebc_cc2f71cd47e4row4_col1\" class=\"data row4 col1\" >9.53</td>\n",
       "            </tr>\n",
       "    </tbody></table>"
      ],
      "text/plain": [
       "<pandas.io.formats.style.Styler at 0xa9e7050>"
      ]
     },
     "execution_count": 37,
     "metadata": {},
     "output_type": "execute_result"
    }
   ],
   "source": [
    "#Top5 highest global 9Yr Moving Avg Temp\n",
    "cleaned_data.iloc[:,np.r_[0,6:7]].sort_values(by=['global_9yr_moving_avg'],ascending=False).\\\n",
    "head().round(2).style.hide_index()"
   ]
  },
  {
   "cell_type": "markdown",
   "metadata": {},
   "source": [
    "### Research Question 6 : Top Five Lowest Global and Bangalore city 9Yr Moving Avg Temp"
   ]
  },
  {
   "cell_type": "code",
   "execution_count": 38,
   "metadata": {},
   "outputs": [],
   "source": [
    "#Top5 lowest bangalore 9Yr Moving Avg Temp\n",
    "x=cleaned_data.iloc[:,np.r_[0,4:5]].sort_values(by=['city_9yr_moving_avg']).head().round(2).style.hide_index()"
   ]
  },
  {
   "cell_type": "code",
   "execution_count": 39,
   "metadata": {},
   "outputs": [],
   "source": [
    "#Top5 lowest global 9Yr Moving Avg Temp\n",
    "y=cleaned_data.iloc[:,np.r_[0,6:7]].sort_values(by=['global_9yr_moving_avg']).head().round(2).style.hide_index()"
   ]
  },
  {
   "cell_type": "code",
   "execution_count": 40,
   "metadata": {},
   "outputs": [
    {
     "name": "stdout",
     "output_type": "stream",
     "text": [
      "Top5 lowest bangalore 9Yr Moving Avg Temp\n"
     ]
    },
    {
     "data": {
      "text/html": [
       "<style  type=\"text/css\" >\n",
       "</style><table id=\"T_97ca2080_467a_11e9_bceb_cc2f71cd47e4\" ><thead>    <tr>        <th class=\"col_heading level0 col0\" >year</th>        <th class=\"col_heading level0 col1\" >city_9yr_moving_avg</th>    </tr></thead><tbody>\n",
       "                <tr>\n",
       "                                <td id=\"T_97ca2080_467a_11e9_bceb_cc2f71cd47e4row0_col0\" class=\"data row0 col0\" >1821</td>\n",
       "                        <td id=\"T_97ca2080_467a_11e9_bceb_cc2f71cd47e4row0_col1\" class=\"data row0 col1\" >23.88</td>\n",
       "            </tr>\n",
       "            <tr>\n",
       "                                <td id=\"T_97ca2080_467a_11e9_bceb_cc2f71cd47e4row1_col0\" class=\"data row1 col0\" >1822</td>\n",
       "                        <td id=\"T_97ca2080_467a_11e9_bceb_cc2f71cd47e4row1_col1\" class=\"data row1 col1\" >23.89</td>\n",
       "            </tr>\n",
       "            <tr>\n",
       "                                <td id=\"T_97ca2080_467a_11e9_bceb_cc2f71cd47e4row2_col0\" class=\"data row2 col0\" >1820</td>\n",
       "                        <td id=\"T_97ca2080_467a_11e9_bceb_cc2f71cd47e4row2_col1\" class=\"data row2 col1\" >23.93</td>\n",
       "            </tr>\n",
       "            <tr>\n",
       "                                <td id=\"T_97ca2080_467a_11e9_bceb_cc2f71cd47e4row3_col0\" class=\"data row3 col0\" >1823</td>\n",
       "                        <td id=\"T_97ca2080_467a_11e9_bceb_cc2f71cd47e4row3_col1\" class=\"data row3 col1\" >23.97</td>\n",
       "            </tr>\n",
       "            <tr>\n",
       "                                <td id=\"T_97ca2080_467a_11e9_bceb_cc2f71cd47e4row4_col0\" class=\"data row4 col0\" >1819</td>\n",
       "                        <td id=\"T_97ca2080_467a_11e9_bceb_cc2f71cd47e4row4_col1\" class=\"data row4 col1\" >24.04</td>\n",
       "            </tr>\n",
       "    </tbody></table>"
      ],
      "text/plain": [
       "<pandas.io.formats.style.Styler at 0xac36db0>"
      ]
     },
     "metadata": {},
     "output_type": "display_data"
    },
    {
     "name": "stdout",
     "output_type": "stream",
     "text": [
      "Top5 lowest global 9Yr Moving Avg Temp\n"
     ]
    },
    {
     "data": {
      "text/html": [
       "<style  type=\"text/css\" >\n",
       "</style><table id=\"T_97cabc54_467a_11e9_9f03_cc2f71cd47e4\" ><thead>    <tr>        <th class=\"col_heading level0 col0\" >year</th>        <th class=\"col_heading level0 col1\" >global_9yr_moving_avg</th>    </tr></thead><tbody>\n",
       "                <tr>\n",
       "                                <td id=\"T_97cabc54_467a_11e9_9f03_cc2f71cd47e4row0_col0\" class=\"data row0 col0\" >1817</td>\n",
       "                        <td id=\"T_97cabc54_467a_11e9_9f03_cc2f71cd47e4row0_col1\" class=\"data row0 col1\" >7.16</td>\n",
       "            </tr>\n",
       "            <tr>\n",
       "                                <td id=\"T_97cabc54_467a_11e9_9f03_cc2f71cd47e4row1_col0\" class=\"data row1 col0\" >1816</td>\n",
       "                        <td id=\"T_97cabc54_467a_11e9_9f03_cc2f71cd47e4row1_col1\" class=\"data row1 col1\" >7.23</td>\n",
       "            </tr>\n",
       "            <tr>\n",
       "                                <td id=\"T_97cabc54_467a_11e9_9f03_cc2f71cd47e4row2_col0\" class=\"data row2 col0\" >1818</td>\n",
       "                        <td id=\"T_97cabc54_467a_11e9_9f03_cc2f71cd47e4row2_col1\" class=\"data row2 col1\" >7.24</td>\n",
       "            </tr>\n",
       "            <tr>\n",
       "                                <td id=\"T_97cabc54_467a_11e9_9f03_cc2f71cd47e4row3_col0\" class=\"data row3 col0\" >1819</td>\n",
       "                        <td id=\"T_97cabc54_467a_11e9_9f03_cc2f71cd47e4row3_col1\" class=\"data row3 col1\" >7.29</td>\n",
       "            </tr>\n",
       "            <tr>\n",
       "                                <td id=\"T_97cabc54_467a_11e9_9f03_cc2f71cd47e4row4_col0\" class=\"data row4 col0\" >1820</td>\n",
       "                        <td id=\"T_97cabc54_467a_11e9_9f03_cc2f71cd47e4row4_col1\" class=\"data row4 col1\" >7.37</td>\n",
       "            </tr>\n",
       "    </tbody></table>"
      ],
      "text/plain": [
       "<pandas.io.formats.style.Styler at 0xac47070>"
      ]
     },
     "metadata": {},
     "output_type": "display_data"
    }
   ],
   "source": [
    "#https://songhuiming.github.io/pages/2017/04/02/jupyter-and-pandas-display/\n",
    "#https://groups.google.com/forum/#!topic/pydata/znrMEQoDtxg\n",
    "\n",
    "from IPython.display import display\n",
    "print('Top5 lowest bangalore 9Yr Moving Avg Temp')\n",
    "display(x)\n",
    "#print('\\n')\n",
    "print('Top5 lowest global 9Yr Moving Avg Temp')\n",
    "display(y)\n"
   ]
  },
  {
   "cell_type": "markdown",
   "metadata": {},
   "source": [
    "<a id='conclusions'></a>\n",
    "## Conclusions\n",
    "\n",
    "> - If comparing the Global average temperature and Bangalore average temperature then the Bangalore city is hotter than Global average temperature.\n",
    "> - Minimum Average Temperature recorded in Bangalore as 23.3 °C in 1816 and Maximum Average Temp recorded as 26.61 °C in 2013\n",
    "> - Minimum Average Temperature recorded in Global as 6.94 °C in 1816 and Maximum Average Temp recorded as 9.73 °C in 2007\n",
    "> - Both Bangalore and Global average temperature lines have the similar kind of trends. During early years, both trends seems to have ups and downs then approx. around 1992 the moving average temperature starts to increase at a steady rate.\n",
    "> - Both graphs show increase in average temperature with time, which means earth is getting hotter.\n",
    "> - we can see that eventually the graph is moving upwards which means the global temperature is rising which is directly proportional to increase in temperatures of the city."
   ]
  }
 ],
 "metadata": {
  "kernelspec": {
   "display_name": "Python 3",
   "language": "python",
   "name": "python3"
  },
  "language_info": {
   "codemirror_mode": {
    "name": "ipython",
    "version": 3
   },
   "file_extension": ".py",
   "mimetype": "text/x-python",
   "name": "python",
   "nbconvert_exporter": "python",
   "pygments_lexer": "ipython3",
   "version": "3.7.3"
  }
 },
 "nbformat": 4,
 "nbformat_minor": 2
}
